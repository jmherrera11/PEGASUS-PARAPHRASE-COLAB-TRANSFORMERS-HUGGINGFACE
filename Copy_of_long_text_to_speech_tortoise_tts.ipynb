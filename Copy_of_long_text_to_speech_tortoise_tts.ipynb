{
  "cells": [
    {
      "cell_type": "markdown",
      "metadata": {
        "id": "view-in-github",
        "colab_type": "text"
      },
      "source": [
        "<a href=\"https://colab.research.google.com/github/jmherrera11/PEGASUS-PARAPHRASE-COLAB-TRANSFORMERS-HUGGINGFACE/blob/main/Copy_of_long_text_to_speech_tortoise_tts.ipynb\" target=\"_parent\"><img src=\"https://colab.research.google.com/assets/colab-badge.svg\" alt=\"Open In Colab\"/></a>"
      ]
    },
    {
      "cell_type": "markdown",
      "metadata": {
        "id": "_pIZ3ZXNp7cf"
      },
      "source": [
        "### Downloading and installing the Tortoise-TTS model"
      ]
    },
    {
      "cell_type": "code",
      "execution_count": null,
      "metadata": {
        "id": "JrK20I32grP6"
      },
      "outputs": [],
      "source": [
        "# the scipy version packaged with colab is not tolerant of misformated WAV files.\n",
        "# install the latest version.\n",
        "!pip3 install -U scipy\n",
        "\n",
        "!git clone https://github.com/jnordberg/tortoise-tts.git\n",
        "%cd tortoise-tts\n",
        "!pip3 install transformers==4.19.0\n",
        "!pip3 install -r requirements.txt\n",
        "!python3 setup.py install"
      ]
    },
    {
      "cell_type": "code",
      "execution_count": null,
      "metadata": {
        "id": "Gen09NM4hONQ"
      },
      "outputs": [],
      "source": [
        "# Imports used through the rest of the notebook.\n",
        "import torch\n",
        "import torchaudio\n",
        "import torch.nn as nn\n",
        "import torch.nn.functional as F\n",
        "\n",
        "import IPython\n",
        "\n",
        "from tortoise.api import TextToSpeech\n",
        "from tortoise.utils.audio import load_audio, load_voice, load_voices\n",
        "\n",
        "# This will download all the models used by Tortoise from the HuggingFace hub.\n",
        "tts = TextToSpeech()"
      ]
    },
    {
      "cell_type": "markdown",
      "source": [
        "### Upload your audios samples here"
      ],
      "metadata": {
        "id": "KMmLyris73JZ"
      }
    },
    {
      "cell_type": "code",
      "execution_count": null,
      "metadata": {
        "id": "VQgw3KeV8Yqb"
      },
      "outputs": [],
      "source": [
        "# Optionally, upload use your own voice by running the next two cells. I recommend\n",
        "# you upload at least 2 audio clips. They must be a WAV file, 6-10 seconds long.\n",
        "CUSTOM_VOICE_NAME = \"martin\"\n",
        "\n",
        "import os\n",
        "from google.colab import files\n",
        "\n",
        "custom_voice_folder = f\"tortoise/voices/{CUSTOM_VOICE_NAME}\"\n",
        "os.makedirs(custom_voice_folder)\n",
        "for i, file_data in enumerate(files.upload().values()):\n",
        "  with open(os.path.join(custom_voice_folder, f'{i}.wav'), 'wb') as f:\n",
        "    f.write(file_data)"
      ]
    },
    {
      "cell_type": "markdown",
      "source": [
        "### Generate longer speech from a text file"
      ],
      "metadata": {
        "id": "bEARFmgn8Et7"
      }
    },
    {
      "cell_type": "code",
      "source": [
        "from tortoise.utils.text import split_and_recombine_text\n",
        "from time import time\n",
        "import os\n",
        "\n",
        "outpath = \"results/longform/\"\n",
        "\n",
        "textfile_path = \"../speech.txt\"\n",
        "\n",
        "# Process text\n",
        "with open(textfile_path, 'r', encoding='utf-8') as f:\n",
        "    text = ' '.join([l for l in f.readlines()])\n",
        "    if '|' in text:\n",
        "        print(\"Found the '|' character in your text, which I will use as a cue for where to split it up. If this was not\"\n",
        "              \"your intent, please remove all '|' characters from the input.\")\n",
        "        texts = text.split('|')\n",
        "    else:\n",
        "        texts = split_and_recombine_text(text)\n",
        "\n",
        "seed = int(time())\n",
        "\n",
        "voice_outpath = os.path.join(outpath, CUSTOM_VOICE_NAME)\n",
        "os.makedirs(voice_outpath, exist_ok=True)\n",
        "\n",
        "voice_samples, conditioning_latents = load_voice(CUSTOM_VOICE_NAME)\n",
        "\n",
        "all_parts = []\n",
        "for j, text in enumerate(texts):\n",
        "    gen = tts.tts_with_preset(text, voice_samples=voice_samples, conditioning_latents=conditioning_latents,\n",
        "                              preset=\"fast\", k=1, use_deterministic_seed=seed)\n",
        "    gen = gen.squeeze(0).cpu()\n",
        "    torchaudio.save(os.path.join(voice_outpath, f'{j}.wav'), gen, 24000)\n",
        "    all_parts.append(gen)\n",
        "\n",
        "full_audio = torch.cat(all_parts, dim=-1)\n",
        "torchaudio.save(os.path.join(voice_outpath, 'combined.wav'), full_audio, 24000)\n",
        "IPython.display.Audio(os.path.join(voice_outpath, 'combined.wav'))"
      ],
      "metadata": {
        "id": "CSjn1jNfgA1y"
      },
      "execution_count": null,
      "outputs": []
    }
  ],
  "metadata": {
    "accelerator": "GPU",
    "colab": {
      "provenance": [],
      "include_colab_link": true
    },
    "kernelspec": {
      "display_name": "Python 3",
      "name": "python3"
    },
    "language_info": {
      "name": "python"
    }
  },
  "nbformat": 4,
  "nbformat_minor": 0
}